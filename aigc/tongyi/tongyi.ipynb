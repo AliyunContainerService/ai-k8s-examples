{
 "cells": [
  {
   "cell_type": "code",
   "execution_count": null,
   "id": "initial_id",
   "metadata": {
    "collapsed": true
   },
   "outputs": [],
   "source": [
    "!pip3 install \"dashscope==1.10.1\""
   ]
  },
  {
   "cell_type": "code",
   "execution_count": null,
   "outputs": [],
   "source": [
    "import dashscope\n",
    "from dashscope import Generation\n",
    "from http import HTTPStatus\n",
    "\n",
    "dashscope.api_key = \"<your_api_key>\""
   ],
   "metadata": {
    "collapsed": false
   },
   "id": "216d196c0744759f"
  },
  {
   "cell_type": "code",
   "execution_count": null,
   "outputs": [],
   "source": [
    "prompt = \"Kubernetes中 Pod 报错信息如下: Back-off pulling image \\\"zibai-test-image\\\"。\\\\n 请帮忙原因给出修复建议。\"\n",
    "response = Generation.call(\n",
    "    model='qwen-turbo',\n",
    "    prompt='Kubernetes中 Pod 报错信息如下: Back-off pulling image \\\"zibai-test-image\\\"。\\\\n 请帮忙原因给出修复建议。'\n",
    ")\n",
    "\n",
    "if response.status_code == HTTPStatus.OK:\n",
    "    print(response.output.get(\"text\"))\n",
    "else:\n",
    "    print('Code: %d, status: %s, message: %s' % (response.status_code, response.code, response.message))"
   ],
   "metadata": {
    "collapsed": false
   },
   "id": "4d4fedc8247c4056"
  },
  {
   "cell_type": "code",
   "execution_count": null,
   "outputs": [],
   "source": [
    "messages = [{'role': 'system', 'content': '你是生活助手机器人。'},\n",
    "            {'role': 'user', 'content': '如何做西红柿鸡蛋？'}]\n",
    "\n",
    "gen = Generation()\n",
    "response = gen.call(\n",
    "    Generation.Models.qwen_turbo,\n",
    "    messages=messages,\n",
    "    result_format='message',  # set the result is message format.\n",
    ")\n",
    "if response.status_code == HTTPStatus.OK:\n",
    "    print(response)\n",
    "else:\n",
    "    print('Request id: %s, Status code: %s, error code: %s, error message: %s' % (\n",
    "        response.request_id, response.status_code,\n",
    "        response.code, response.message\n",
    "    ))     "
   ],
   "metadata": {
    "collapsed": false
   },
   "id": "63a6d7fe9daebdb9"
  }
 ],
 "metadata": {
  "kernelspec": {
   "display_name": "Python 3",
   "language": "python",
   "name": "python3"
  },
  "language_info": {
   "codemirror_mode": {
    "name": "ipython",
    "version": 2
   },
   "file_extension": ".py",
   "mimetype": "text/x-python",
   "name": "python",
   "nbconvert_exporter": "python",
   "pygments_lexer": "ipython2",
   "version": "2.7.6"
  }
 },
 "nbformat": 4,
 "nbformat_minor": 5
}
